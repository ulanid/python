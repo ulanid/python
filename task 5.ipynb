{
 "cells": [
  {
   "cell_type": "markdown",
   "id": "34835817",
   "metadata": {},
   "source": [
    "## Основне завдання: Імпровізована база даних студентів\n",
    "\n",
    "Ваше завдання — створити просту імпровізовану базу даних студентів у форматі CSV. База даних повинна містити ім'я, прізвище, вік та спеціальність студента.\n",
    "\n",
    "1. **Створення бази даних**: Створіть файл `students.csv` та запишіть в нього заголовки для наступних полів: Ім'я, Прізвище, Вік, Спеціальність.\n",
    "2. **Додавання записів**: Додайте інформацію про 5 студентів до файлу `students.csv`.\n",
    "3. **Читання бази даних**: Прочитайте файл `students.csv` та виведіть інформацію про всіх студентів.\n",
    "4. **Пошук студентів**: Прочитайте файл `students.csv` та виведіть інформацію про студентів, які старші 20 років.\n",
    "5. **Оновлення записів**: Змініть спеціальність одного зі студентів у файлі `students.csv`.\n",
    "6. **Видалення запису**: Видаліть запис про одного зі студентів з файлу `students.csv`.\n",
    "7. **Сортування бази даних**: Сортуйте записи в файлі `students.csv` за віком студентів в зростаючому порядку.\n",
    "\n",
    "### Додаткове завдання на + бали\n",
    "\n",
    "1. **Статистика**: Прочитайте файл `students.csv` та виведіть середній вік студентів для кожної спеціальності.\n",
    "\n",
    "<div style=\"width: 100%; overflow: hidden; display: flex; justify-content: center; \">\n",
    "<img style=\"width: 60rem;\" src=\"https://i.ibb.co/cv7MLHW/99fdaf80-8894-42f1-8ff4-a64219b33b9f.webp\" alt=\"99fdaf80-8894-42f1-8ff4-a64219b33b9f\" border=\"0\"/>\n",
    "</div>\n"
   ]
  },
  {
   "cell_type": "code",
   "execution_count": 71,
   "id": "e01bbfc4",
   "metadata": {},
   "outputs": [],
   "source": [
    "with open('students.csv', 'w') as file:\n",
    "    file.write('Name, Surname, Age, Major\\n')"
   ]
  },
  {
   "cell_type": "code",
   "execution_count": 72,
   "id": "8b53719c",
   "metadata": {},
   "outputs": [],
   "source": [
    "students_data = [\n",
    "    ['John', 'Doe', 22, 'Computer Science'],\n",
    "    ['Alice', 'Johnson', 20, 'Mathematics'],\n",
    "    ['Bob', 'Smith', 23, 'Physics'],\n",
    "    ['Eva', 'Brown', 19, 'Chemistry'],\n",
    "    ['Michael', 'Davis', 21, 'Biology']\n",
    "]\n",
    "\n",
    "with open('students.csv', 'a') as file:\n",
    "    for student in students_data:\n",
    "        file.write(', '.join(map(str, student)) + '\\n')"
   ]
  },
  {
   "cell_type": "code",
   "execution_count": 73,
   "id": "06030c3a",
   "metadata": {},
   "outputs": [
    {
     "name": "stdout",
     "output_type": "stream",
     "text": [
      "Name, Surname, Age, Major\n",
      "John, Doe, 22, Computer Science\n",
      "Alice, Johnson, 20, Mathematics\n",
      "Bob, Smith, 23, Physics\n",
      "Eva, Brown, 19, Chemistry\n",
      "Michael, Davis, 21, Biology\n"
     ]
    }
   ],
   "source": [
    "with open('students.csv', 'r') as file:\n",
    "    for line in file:\n",
    "        print(line.strip()) "
   ]
  },
  {
   "cell_type": "code",
   "execution_count": 74,
   "id": "f1237069",
   "metadata": {},
   "outputs": [
    {
     "name": "stdout",
     "output_type": "stream",
     "text": [
      "John Doe, Age: 22, Major: Computer Science\n",
      "Bob Smith, Age: 23, Major: Physics\n",
      "Michael Davis, Age: 21, Major: Biology\n"
     ]
    }
   ],
   "source": [
    "with open('students.csv', 'r') as file:\n",
    "    next(file)\n",
    "    for line in file:\n",
    "        name, surname, age, major = line.strip().split(', ')\n",
    "        age = int(age)\n",
    "        if age > 20:\n",
    "            print(f'{name} {surname}, Age: {age}, Major: {major}')"
   ]
  },
  {
   "cell_type": "code",
   "execution_count": 75,
   "id": "1d25e2e0",
   "metadata": {},
   "outputs": [],
   "source": [
    "with open('students.csv', 'r') as file:\n",
    "    lines = file.readlines()\n",
    "\n",
    "lines[1] = 'John, Doe, 22, Electrical Engineering\\n'\n",
    "\n",
    "with open('students.csv', 'w') as file:\n",
    "    file.writelines(lines)"
   ]
  },
  {
   "cell_type": "code",
   "execution_count": 76,
   "id": "cefc77ba",
   "metadata": {},
   "outputs": [],
   "source": [
    "delete_record = 'Alice, Johnson'\n",
    "\n",
    "with open('students.csv', 'r') as file:\n",
    "    lines = file.readlines()\n",
    "\n",
    "with open('students.csv', 'w') as file:\n",
    "    for line in lines:\n",
    "        if delete_record.strip() not in line.strip():\n",
    "            file.write(line) "
   ]
  },
  {
   "cell_type": "code",
   "execution_count": 77,
   "id": "94295475",
   "metadata": {},
   "outputs": [],
   "source": [
    "with open('students.csv', 'r') as file:\n",
    "    lines = file.readlines()\n",
    "    \n",
    "header = lines[0]\n",
    "lines = lines[1:]\n",
    "\n",
    "sorted_lines = sorted(lines, key=lambda x: int(x.strip().split(',')[2]))\n",
    "\n",
    "with open('students.csv', 'w') as file:\n",
    "    file.write(header)\n",
    "    file.writelines(sorted_lines)"
   ]
  }
 ],
 "metadata": {
  "kernelspec": {
   "display_name": "Python 3",
   "language": "python",
   "name": "python3"
  },
  "language_info": {
   "codemirror_mode": {
    "name": "ipython",
    "version": 3
   },
   "file_extension": ".py",
   "mimetype": "text/x-python",
   "name": "python",
   "nbconvert_exporter": "python",
   "pygments_lexer": "ipython3",
   "version": "3.11.2"
  }
 },
 "nbformat": 4,
 "nbformat_minor": 5
}
