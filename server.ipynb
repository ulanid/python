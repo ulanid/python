{
 "cells": [
  {
   "cell_type": "code",
   "execution_count": 1,
   "metadata": {},
   "outputs": [
    {
     "name": "stdout",
     "output_type": "stream",
     "text": [
      "Server started\n"
     ]
    }
   ],
   "source": [
    "import socket\n",
    "import threading\n",
    "\n",
    "clients = []\n",
    "\n",
    "def show_message(message, sender):\n",
    "    for client in clients:\n",
    "        try:\n",
    "            if client != sender:\n",
    "                client.send(message.encode())\n",
    "        except:\n",
    "            clients.remove(client)\n",
    "\n",
    "def client_thread(conn, addr):\n",
    "    print(f\"Connected by {addr}\")\n",
    "    name = conn.recv(1024).decode()\n",
    "\n",
    "    while True:\n",
    "        try:\n",
    "            message = conn.recv(1024).decode()\n",
    "            if not message:\n",
    "                break\n",
    "            print(f\"Received from {name}: {message}\")\n",
    "            show_message(f\"{message}\", conn)\n",
    "        except:\n",
    "            break\n",
    "    conn.close()\n",
    "\n",
    "def start_server():\n",
    "    server = socket.socket(socket.AF_INET, socket.SOCK_STREAM)\n",
    "    server.bind(('localhost', 12345))\n",
    "    server.listen()\n",
    "    print('Server started')\n",
    "\n",
    "    while True:\n",
    "        conn, addr = server.accept()\n",
    "        clients.append(conn)\n",
    "        thread = threading.Thread(target=client_thread, args=(conn, addr))\n",
    "        thread.start()\n",
    "\n",
    "\n",
    "if __name__ == \"__main__\":\n",
    "    start_server()"
   ]
  }
 ],
 "metadata": {
  "kernelspec": {
   "display_name": "Python 3",
   "language": "python",
   "name": "python3"
  },
  "language_info": {
   "codemirror_mode": {
    "name": "ipython",
    "version": 3
   },
   "file_extension": ".py",
   "mimetype": "text/x-python",
   "name": "python",
   "nbconvert_exporter": "python",
   "pygments_lexer": "ipython3",
   "version": "3.12.0"
  }
 },
 "nbformat": 4,
 "nbformat_minor": 2
}
