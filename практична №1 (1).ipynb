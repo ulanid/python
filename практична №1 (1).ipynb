{
 "cells": [
  {
   "cell_type": "code",
   "execution_count": null,
   "metadata": {},
   "outputs": [],
   "source": []
  },
  {
   "cell_type": "markdown",
   "metadata": {},
   "source": [
    "## Практичне завдання №1\n",
    "\n",
    "На основі вивченого матеріалу по темі \"умовні конструкції\" необхідно реалізувати наступну аплікацію.\n",
    "\n",
    "### Аплікація\n",
    "\n",
    "Бізнес вимога: Замовник прийшов до вас із задачею - треба побудувати міні гру з варіативними виборами персонажа. Клієнт взагалі займається розробкою ігор, але їм зараз треба зробити швидко сценарій для невеличкої презентації, щоби показати загальний концепт і персонажів гри. Таким чином вони вирішили зробити невелику маркетингову компанію для клієнтів. За сценарієм клієнт, який попадає на сайт виробника має пройти невелику квест-гру, в якій він відповідатиме на запитання і по мірі проходження цих запитань він має досягати різних результатів гри. Має бути як мінімум 2-3 кінцівки.\n",
    "\n",
    "#### Деталі\n",
    "\n",
    "Користувачу мають задаватись питання один за одним. Питання, які будуть розвивати хід гри. Так, наприклад, гра має початися на першому рівні, на якому користувачу треба перемогти своїх ворогів.\n"
   ]
  },
  {
   "cell_type": "code",
   "execution_count": 1,
   "metadata": {},
   "outputs": [],
   "source": [
    "\n",
    "import time\n",
    "import random\n",
    "# ця функція додасть інтерактиву в ваш чат і зробить його більш схожим на реальний.\n",
    "\n",
    "\n",
    "def delay_print(s):\n",
    "    for c in s:\n",
    "        print(c, end='')\n",
    "        time.sleep(random.random() * 0.01)\n",
    "    print()\n"
   ]
  },
  {
   "cell_type": "code",
   "execution_count": 2,
   "metadata": {},
   "outputs": [
    {
     "name": "stdout",
     "output_type": "stream",
     "text": [
      "Вітаю, d! Давай зіграємо у гру?\n"
     ]
    }
   ],
   "source": [
    "character_name = input(\"Вітаю! Введіть ім'я вашого персонажа.\")\n",
    "delay_print(\"Вітаю, \" + character_name +\n",
    "            \"! Давай зіграємо у гру!\")\n"
   ]
  },
  {
   "cell_type": "code",
   "execution_count": 3,
   "metadata": {},
   "outputs": [],
   "source": [
    "# стати персонажа та ворогів\n",
    "answers_array = []\n"
   ]
  },
  {
   "cell_type": "code",
   "execution_count": 4,
   "metadata": {},
   "outputs": [
    {
     "name": "stdout",
     "output_type": "stream",
     "text": [
      "Вітаю на першому рівні! Почнімо з простого запитання:\n",
      " Ти навчаєшся в ІТ СТЕПі?\n",
      "Варіанти відповідей:\n",
      "1) 'Так('\n",
      "2) 'Ні, я з УКУ'\n",
      "Значить ти знаєш що таке кон'юнкція, так?\n",
      "Варіанти відповідей:\n",
      "1) 'Так'\n",
      "2) 'Ні'\n",
      "3) 'Кон'юктивіт?'\n"
     ]
    }
   ],
   "source": [
    "delay_print(\"Вітаю на першому рівні! Почнімо з простого запитання:\\n Ти навчаєшся в ІТ СТЕПі?\")\n",
    "\n",
    "print(\"Варіанти відповідей:\\n1) 'Так('\\n2) 'Ні, я з УКУ'\")\n",
    "\n",
    "answer = input(\"Введіть відповідь: \")\n",
    "answers_array.append(answer)\n",
    "\n",
    "match answer:\n",
    "    case \"1\": \n",
    "        delay_print(\"Значить ти знаєш що таке кон'юнкція, так?\")\n",
    "        print(\"Варіанти відповідей:\\n1) 'Так'\\n2) 'Ні'\\n3) 'Кон'юктивіт?'\")\n",
    "        answer = input(\"Введіть відповідь: \")\n",
    "    case '2':\n",
    "        delay_print(\"Тоді тримай сік\")\n",
    "        print(\"Варіанти вибору:\\n1) 'Випити'\\n2) 'Не пити'\\n\")\n",
    "        answer = input(\"Введіть відповідь: \")\n",
    "    case _: delay_print(\"?????\")\n"
   ]
  },
  {
   "cell_type": "code",
   "execution_count": 5,
   "metadata": {},
   "outputs": [
    {
     "name": "stdout",
     "output_type": "stream",
     "text": [
      "Молодець\n"
     ]
    }
   ],
   "source": [
    "answers_transformed = [int(i) for i in answers_array]\n",
    "\n",
    "if sum(answers_transformed) == 1:\n",
    "    answers_array.append(answer)\n",
    "    \n",
    "\n",
    "    match answer:\n",
    "        case \"1\": \n",
    "            delay_print(\"Молодець\")\n",
    "            exit(0)\n",
    "        case '2':\n",
    "            print(\"Нуууу, це нормально не знати\")\n",
    "            exit(0)\n",
    "        case '3':\n",
    "            print(\"...\")\n",
    "            exit(0)\n",
    "        \n",
    "        case _: \n",
    "            delay_print(\"?????\")\n",
    "            \n",
    "else:\n",
    "     answers_array.append(answer)\n",
    "     \n",
    "    \n",
    "     match answer:\n",
    "        case \"1\": \n",
    "            delay_print(\"*Ви випиваєте підозрілий сік, але майже одразу відчуваєте, що свідомість покидає вас*\")\n",
    "            exit(0)\n",
    "        case '2':\n",
    "            print(\"Чому ні?\")\n",
    "            delay_print(\"Назви мені вагому причину!!!\")\n",
    "            print(\"Варіанти відповідей:\\n1) 'В мене алергія'\\n2) 'Не хочу'\\n3) 'Привіт'\")\n",
    "            answer = input(\"Введіть відповідь: \")\n",
    "           \n",
    "        \n",
    "        case _: \n",
    "            delay_print(\"?????\")\n",
    "            exit(0)\n",
    "         "
   ]
  },
  {
   "cell_type": "code",
   "execution_count": 6,
   "metadata": {},
   "outputs": [
    {
     "name": "stdout",
     "output_type": "stream",
     "text": [
      "Оуууууу, ну тоді тримай водичку :)\n"
     ]
    },
    {
     "ename": "",
     "evalue": "",
     "output_type": "error",
     "traceback": [
      "\u001b[1;31mThe Kernel crashed while executing code in the the current cell or a previous cell. Please review the code in the cell(s) to identify a possible cause of the failure. Click <a href='https://aka.ms/vscodeJupyterKernelCrash'>here</a> for more info. View Jupyter <a href='command:jupyter.viewOutput'>log</a> for further details."
     ]
    }
   ],
   "source": [
    "\n",
    "answers_transformed = [int(i) for i in answers_array]\n",
    "answers_array.append(answer)\n",
    "match answer:\n",
    "    case \"1\": \n",
    "        delay_print(\"Оуууууу, ну тоді тримай водичку :)\")\n",
    "        exit(0)\n",
    "    case '2':\n",
    "        print(\"Дарма... ну ок\")\n",
    "        exit(0)\n",
    "    case '3':\n",
    "        print(\"Привіт\")\n",
    "        exit(0)\n",
    "    case _: delay_print(\"?????\")\n",
    "    \n"
   ]
  }
 ],
 "metadata": {
  "kernelspec": {
   "display_name": "Python 3",
   "language": "python",
   "name": "python3"
  },
  "language_info": {
   "codemirror_mode": {
    "name": "ipython",
    "version": 3
   },
   "file_extension": ".py",
   "mimetype": "text/x-python",
   "name": "python",
   "nbconvert_exporter": "python",
   "pygments_lexer": "ipython3",
   "version": "3.11.2"
  }
 },
 "nbformat": 4,
 "nbformat_minor": 2
}
